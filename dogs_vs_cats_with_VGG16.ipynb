{
  "nbformat": 4,
  "nbformat_minor": 0,
  "metadata": {
    "colab": {
      "name": "dogs-vs-cats with VGG16.ipynb",
      "provenance": []
    },
    "kernelspec": {
      "name": "python3",
      "display_name": "Python 3"
    },
    "language_info": {
      "name": "python"
    },
    "accelerator": "GPU"
  },
  "cells": [
    {
      "cell_type": "code",
      "metadata": {
        "id": "w0AolbZibPEX"
      },
      "source": [
        "import os\n",
        "import tensorflow as tf\n",
        "from tensorflow import keras"
      ],
      "execution_count": 17,
      "outputs": []
    },
    {
      "cell_type": "code",
      "metadata": {
        "id": "ESsiXXZxbmdx"
      },
      "source": [
        "os.environ[\"KAGGLE_CONFIG_DIR\"] =\"/content/drive/MyDrive/kaggle\""
      ],
      "execution_count": 7,
      "outputs": []
    },
    {
      "cell_type": "code",
      "metadata": {
        "colab": {
          "base_uri": "https://localhost:8080/"
        },
        "id": "6uq6_0nRcE8k",
        "outputId": "724216ce-7e6e-4961-f5b2-ecb0427d3dcc"
      },
      "source": [
        "!kaggle competitions download -c dogs-vs-cats"
      ],
      "execution_count": 8,
      "outputs": [
        {
          "output_type": "stream",
          "text": [
            "Warning: Looks like you're using an outdated API Version, please consider updating (server 1.5.12 / client 1.5.4)\n",
            "Downloading test1.zip to /content\n",
            " 97% 262M/271M [00:01<00:00, 178MB/s]\n",
            "100% 271M/271M [00:01<00:00, 154MB/s]\n",
            "Downloading train.zip to /content\n",
            " 98% 534M/543M [00:03<00:00, 162MB/s]\n",
            "100% 543M/543M [00:03<00:00, 160MB/s]\n",
            "Downloading sampleSubmission.csv to /content\n",
            "  0% 0.00/86.8k [00:00<?, ?B/s]\n",
            "100% 86.8k/86.8k [00:00<00:00, 72.1MB/s]\n"
          ],
          "name": "stdout"
        }
      ]
    },
    {
      "cell_type": "code",
      "metadata": {
        "id": "2Skvww1mjwF3"
      },
      "source": [
        "# upload the data"
      ],
      "execution_count": null,
      "outputs": []
    },
    {
      "cell_type": "code",
      "metadata": {
        "colab": {
          "base_uri": "https://localhost:8080/"
        },
        "id": "h_SbV-84h_O8",
        "outputId": "035cdc39-2095-482c-fc18-8520b7c8bd27"
      },
      "source": [
        "import zipfile\n",
        "from zipfile import ZipFile\n",
        "\n",
        "file_name = \"/content/train.zip\"\n",
        "\n",
        "with zipfile.ZipFile(file_name, 'r') as zipref:\n",
        "  zipref.extractall()\n",
        "  print(\"done\")"
      ],
      "execution_count": 9,
      "outputs": [
        {
          "output_type": "stream",
          "text": [
            "done\n"
          ],
          "name": "stdout"
        }
      ]
    },
    {
      "cell_type": "code",
      "metadata": {
        "colab": {
          "base_uri": "https://localhost:8080/"
        },
        "id": "pikyEa70m7dj",
        "outputId": "f5a3fadf-963f-4b03-cbc5-2357960a58a1"
      },
      "source": [
        "data_dir_list =os.listdir('/content/train')\n",
        "\n",
        "path, dirs, files = next(os.walk(\"/content/train\"))\n",
        "file_count =len(files)\n",
        "print(file_count)\n",
        "\n",
        "original_dataset_dir ='/content/train'\n",
        "base_dir ='/content/cats_and_dogs_smalls'\n",
        "os.mkdir(base_dir)"
      ],
      "execution_count": 10,
      "outputs": [
        {
          "output_type": "stream",
          "text": [
            "25000\n"
          ],
          "name": "stdout"
        }
      ]
    },
    {
      "cell_type": "code",
      "metadata": {
        "id": "-A5_JQYfpbQi"
      },
      "source": [
        "\n",
        "train_dir = os.path.join(base_dir, 'train')\n",
        "os.mkdir(train_dir)\n",
        "\n",
        "validation_dir = os.path.join(base_dir, 'validation')\n",
        "os.mkdir(validation_dir)\n",
        "\n",
        "test_dir = os.path.join(base_dir, 'test')\n",
        "os.mkdir(test_dir)\n",
        "\n",
        "train_cats_dir = os.path.join(train_dir, 'cats')\n",
        "os.mkdir(train_cats_dir)\n",
        "\n",
        "train_dogs_dir = os.path.join(train_dir, 'dogs')\n",
        "os.mkdir(train_dogs_dir)\n",
        "\n",
        "validation_cats_dir = os.path.join(validation_dir, 'cats')\n",
        "os.mkdir(validation_cats_dir)\n",
        "\n",
        "validation_dogs_dir = os.path.join(validation_dir, 'dogs')\n",
        "os.mkdir(validation_dogs_dir)\n",
        "\n",
        "test_cats_dir = os.path.join(test_dir, 'cats')\n",
        "os.mkdir(test_cats_dir)\n",
        "\n",
        "test_dogs_dir = os.path.join(test_dir, 'dogs')\n",
        "os.mkdir(test_dogs_dir)\n",
        "\n"
      ],
      "execution_count": 11,
      "outputs": []
    },
    {
      "cell_type": "code",
      "metadata": {
        "id": "s3iK-3XiqQek"
      },
      "source": [
        "import shutil\n",
        "fnames = ['cat.{}.jpg'.format(i) for i in range(1000)]\n",
        "for fname in fnames:\n",
        "    src = os.path.join(original_dataset_dir, fname)\n",
        "    dst = os.path.join(train_cats_dir, fname)\n",
        "    shutil.copyfile(src, dst)\n",
        "\n",
        "fnames = ['cat.{}.jpg'.format(i) for i in range(1000, 1500)]\n",
        "for fname in fnames:\n",
        "    src = os.path.join(original_dataset_dir, fname)\n",
        "    dst = os.path.join(validation_cats_dir, fname)\n",
        "    shutil.copyfile(src, dst)\n",
        "\n",
        "fnames = ['cat.{}.jpg'.format(i) for i in range(1500, 2000)]\n",
        "for fname in fnames:\n",
        "    src = os.path.join(original_dataset_dir, fname)\n",
        "    dst = os.path.join(test_cats_dir, fname)\n",
        "    shutil.copyfile(src, dst)\n",
        "                    \n",
        "fnames = ['dog.{}.jpg'.format(i) for i in range(1000)]\n",
        "for fname in fnames:\n",
        "    src = os.path.join(original_dataset_dir, fname)\n",
        "    dst = os.path.join(train_dogs_dir, fname)\n",
        "    shutil.copyfile(src, dst)\n",
        "\n",
        "fnames = ['dog.{}.jpg'.format(i) for i in range(1000, 1500)]\n",
        "for fname in fnames:\n",
        "    src = os.path.join(original_dataset_dir, fname)\n",
        "    dst = os.path.join(validation_dogs_dir, fname)\n",
        "    shutil.copyfile(src, dst)\n",
        "\n",
        "fnames = ['dog.{}.jpg'.format(i) for i in range(1500, 2000)]\n",
        "for fname in fnames:\n",
        "    src = os.path.join(original_dataset_dir, fname)\n",
        "    dst = os.path.join(test_dogs_dir, fname)\n",
        "    shutil.copyfile(src, dst)"
      ],
      "execution_count": 12,
      "outputs": []
    },
    {
      "cell_type": "code",
      "metadata": {
        "colab": {
          "base_uri": "https://localhost:8080/"
        },
        "id": "wt7aBM74szWf",
        "outputId": "99ac1efa-2c9a-49c3-9a17-5f1ced968056"
      },
      "source": [
        "print('total training cat images:', len(os.listdir(train_cats_dir)))\n",
        "# total training cat images: 1000\n",
        "print('total training dog images:', len(os.listdir(train_dogs_dir)))\n",
        "# total training dog images: 1000\n",
        "print('total validation cat images:', len(os.listdir(validation_cats_dir)))\n",
        "# total validation cat images: 500\n",
        "print('total validation dog images:', len(os.listdir(validation_dogs_dir)))\n",
        "# total validation dog images: 500\n",
        "print('total test cat images:', len(os.listdir(test_cats_dir)))\n",
        "# total test cat images: 500\n",
        "print('total test dog images:', len(os.listdir(test_dogs_dir)))\n",
        "# total test dog images: 500"
      ],
      "execution_count": 13,
      "outputs": [
        {
          "output_type": "stream",
          "text": [
            "total training cat images: 1000\n",
            "total training dog images: 1000\n",
            "total validation cat images: 500\n",
            "total validation dog images: 500\n",
            "total test cat images: 500\n",
            "total test dog images: 500\n"
          ],
          "name": "stdout"
        }
      ]
    },
    {
      "cell_type": "code",
      "metadata": {
        "id": "zLziuEmOh1Hj"
      },
      "source": [
        "# Feature extraction\n",
        "# Listing 5.16 Instantiating the VGG16 convolutional base"
      ],
      "execution_count": null,
      "outputs": []
    },
    {
      "cell_type": "code",
      "metadata": {
        "colab": {
          "base_uri": "https://localhost:8080/"
        },
        "id": "wqXvt1xwzXHM",
        "outputId": "9f5e1d5e-fae5-4d87-8ce6-bcf802795322"
      },
      "source": [
        "from tensorflow.keras.applications import VGG16\n",
        "conv_base = VGG16(weights='imagenet',\n",
        "include_top=False,\n",
        "input_shape=(150, 150, 3))"
      ],
      "execution_count": 33,
      "outputs": [
        {
          "output_type": "stream",
          "text": [
            "Downloading data from https://storage.googleapis.com/tensorflow/keras-applications/vgg16/vgg16_weights_tf_dim_ordering_tf_kernels_notop.h5\n",
            "58892288/58889256 [==============================] - 1s 0us/step\n",
            "58900480/58889256 [==============================] - 1s 0us/step\n"
          ],
          "name": "stdout"
        }
      ]
    },
    {
      "cell_type": "code",
      "metadata": {
        "colab": {
          "base_uri": "https://localhost:8080/"
        },
        "id": "ndiWzZcq4hBA",
        "outputId": "e7e6561a-1c73-4432-c276-c94a328f14a4"
      },
      "source": [
        "conv_base.summary()"
      ],
      "execution_count": 34,
      "outputs": [
        {
          "output_type": "stream",
          "text": [
            "Model: \"vgg16\"\n",
            "_________________________________________________________________\n",
            "Layer (type)                 Output Shape              Param #   \n",
            "=================================================================\n",
            "input_1 (InputLayer)         [(None, 150, 150, 3)]     0         \n",
            "_________________________________________________________________\n",
            "block1_conv1 (Conv2D)        (None, 150, 150, 64)      1792      \n",
            "_________________________________________________________________\n",
            "block1_conv2 (Conv2D)        (None, 150, 150, 64)      36928     \n",
            "_________________________________________________________________\n",
            "block1_pool (MaxPooling2D)   (None, 75, 75, 64)        0         \n",
            "_________________________________________________________________\n",
            "block2_conv1 (Conv2D)        (None, 75, 75, 128)       73856     \n",
            "_________________________________________________________________\n",
            "block2_conv2 (Conv2D)        (None, 75, 75, 128)       147584    \n",
            "_________________________________________________________________\n",
            "block2_pool (MaxPooling2D)   (None, 37, 37, 128)       0         \n",
            "_________________________________________________________________\n",
            "block3_conv1 (Conv2D)        (None, 37, 37, 256)       295168    \n",
            "_________________________________________________________________\n",
            "block3_conv2 (Conv2D)        (None, 37, 37, 256)       590080    \n",
            "_________________________________________________________________\n",
            "block3_conv3 (Conv2D)        (None, 37, 37, 256)       590080    \n",
            "_________________________________________________________________\n",
            "block3_pool (MaxPooling2D)   (None, 18, 18, 256)       0         \n",
            "_________________________________________________________________\n",
            "block4_conv1 (Conv2D)        (None, 18, 18, 512)       1180160   \n",
            "_________________________________________________________________\n",
            "block4_conv2 (Conv2D)        (None, 18, 18, 512)       2359808   \n",
            "_________________________________________________________________\n",
            "block4_conv3 (Conv2D)        (None, 18, 18, 512)       2359808   \n",
            "_________________________________________________________________\n",
            "block4_pool (MaxPooling2D)   (None, 9, 9, 512)         0         \n",
            "_________________________________________________________________\n",
            "block5_conv1 (Conv2D)        (None, 9, 9, 512)         2359808   \n",
            "_________________________________________________________________\n",
            "block5_conv2 (Conv2D)        (None, 9, 9, 512)         2359808   \n",
            "_________________________________________________________________\n",
            "block5_conv3 (Conv2D)        (None, 9, 9, 512)         2359808   \n",
            "_________________________________________________________________\n",
            "block5_pool (MaxPooling2D)   (None, 4, 4, 512)         0         \n",
            "=================================================================\n",
            "Total params: 14,714,688\n",
            "Trainable params: 14,714,688\n",
            "Non-trainable params: 0\n",
            "_________________________________________________________________\n"
          ],
          "name": "stdout"
        }
      ]
    },
    {
      "cell_type": "code",
      "metadata": {
        "id": "VOg2gN_ehZ-5"
      },
      "source": [
        "# FAST FEATURE EXTRACTION WITHOUT DATA AUGMENTATION\n",
        "# Listing 5.17 Extracting features using the pretrained convolutional base"
      ],
      "execution_count": null,
      "outputs": []
    },
    {
      "cell_type": "code",
      "metadata": {
        "colab": {
          "base_uri": "https://localhost:8080/"
        },
        "id": "xa6sshtS41Vh",
        "outputId": "6a547d95-a317-431b-9d18-3d91799faf44"
      },
      "source": [
        "import os\n",
        "import numpy as np\n",
        "from keras.preprocessing.image import ImageDataGenerator\n",
        "\n",
        "base_dir ='/content/cats_and_dogs_smalls'\n",
        "train_dir = os.path.join(base_dir, 'train')\n",
        "validation_dir = os.path.join(base_dir, 'validation')\n",
        "test_dir = os.path.join(base_dir, 'test')\n",
        "\n",
        "datagen = ImageDataGenerator(rescale=1./255)\n",
        "batch_size = 20\n",
        "\n",
        "def extract_features(directory, sample_count):\n",
        "    features = np.zeros(shape=(sample_count, 4, 4, 512))\n",
        "    labels = np.zeros(shape=(sample_count))\n",
        "    generator = datagen.flow_from_directory(\n",
        "        directory,\n",
        "        target_size=(150, 150),\n",
        "        batch_size=batch_size,\n",
        "        class_mode='binary')\n",
        "    i=0\n",
        "    for inputs_batch, labels_batch in generator:\n",
        "        features_batch = conv_base.predict(inputs_batch)\n",
        "        features[i * batch_size : (i + 1) * batch_size] = features_batch\n",
        "        labels[i * batch_size : (i + 1) * batch_size] = labels_batch\n",
        "        i += 1\n",
        "        if i * batch_size >= sample_count:\n",
        "            break\n",
        "    return features, labels\n",
        "train_features, train_labels = extract_features(train_dir, 2000)\n",
        "validation_features, validation_labels = extract_features(validation_dir, 1000)\n",
        "test_features, test_labels = extract_features(test_dir, 1000)\n"
      ],
      "execution_count": 36,
      "outputs": [
        {
          "output_type": "stream",
          "text": [
            "Found 2000 images belonging to 2 classes.\n",
            "Found 1000 images belonging to 2 classes.\n",
            "Found 1000 images belonging to 2 classes.\n"
          ],
          "name": "stdout"
        }
      ]
    },
    {
      "cell_type": "code",
      "metadata": {
        "id": "GrDOL6ud7juU"
      },
      "source": [
        "train_features = np.reshape(train_features, (2000, 4*4* 512))\n",
        "validation_features = np.reshape(validation_features, (1000, 4*4* 512))\n",
        "test_features = np.reshape(test_features, (1000, 4*4* 512))"
      ],
      "execution_count": 37,
      "outputs": []
    },
    {
      "cell_type": "code",
      "metadata": {
        "id": "f2uWIkyDjRyN"
      },
      "source": [
        "# Listing 5.18 Defining and training the densely connected classifier"
      ],
      "execution_count": null,
      "outputs": []
    },
    {
      "cell_type": "code",
      "metadata": {
        "colab": {
          "base_uri": "https://localhost:8080/"
        },
        "id": "95sTq0Fi8Ezz",
        "outputId": "13cbc2dc-2d14-401d-f59d-9b781a1fce28"
      },
      "source": [
        "from tensorflow.keras import models\n",
        "from tensorflow.keras import layers\n",
        "from tensorflow.keras import optimizers\n",
        "model = models.Sequential()\n",
        "model.add(layers.Dense(256, activation='relu', input_dim=4 * 4 * 512))\n",
        "model.add(layers.Dropout(0.5))\n",
        "model.add(layers.Dense(1, activation='sigmoid'))\n",
        "model.compile(optimizer=optimizers.RMSprop(lr=2e-5),\n",
        "loss='binary_crossentropy',\n",
        "metrics=['acc'])\n",
        "history = model.fit(train_features, train_labels,\n",
        "epochs=30,\n",
        "batch_size=20,\n",
        "validation_data=(validation_features, validation_labels))"
      ],
      "execution_count": 40,
      "outputs": [
        {
          "output_type": "stream",
          "text": [
            "/usr/local/lib/python3.7/dist-packages/keras/optimizer_v2/optimizer_v2.py:356: UserWarning: The `lr` argument is deprecated, use `learning_rate` instead.\n",
            "  \"The `lr` argument is deprecated, use `learning_rate` instead.\")\n"
          ],
          "name": "stderr"
        },
        {
          "output_type": "stream",
          "text": [
            "Epoch 1/30\n",
            "100/100 [==============================] - 1s 8ms/step - loss: 0.6144 - acc: 0.6590 - val_loss: 0.4642 - val_acc: 0.8300\n",
            "Epoch 2/30\n",
            "100/100 [==============================] - 1s 6ms/step - loss: 0.4365 - acc: 0.8045 - val_loss: 0.3724 - val_acc: 0.8610\n",
            "Epoch 3/30\n",
            "100/100 [==============================] - 1s 5ms/step - loss: 0.3663 - acc: 0.8370 - val_loss: 0.3305 - val_acc: 0.8690\n",
            "Epoch 4/30\n",
            "100/100 [==============================] - 1s 6ms/step - loss: 0.3107 - acc: 0.8735 - val_loss: 0.3059 - val_acc: 0.8800\n",
            "Epoch 5/30\n",
            "100/100 [==============================] - 1s 6ms/step - loss: 0.2847 - acc: 0.8855 - val_loss: 0.2966 - val_acc: 0.8770\n",
            "Epoch 6/30\n",
            "100/100 [==============================] - 1s 6ms/step - loss: 0.2706 - acc: 0.8920 - val_loss: 0.2804 - val_acc: 0.8950\n",
            "Epoch 7/30\n",
            "100/100 [==============================] - 1s 6ms/step - loss: 0.2519 - acc: 0.8970 - val_loss: 0.2718 - val_acc: 0.8890\n",
            "Epoch 8/30\n",
            "100/100 [==============================] - 1s 6ms/step - loss: 0.2358 - acc: 0.9065 - val_loss: 0.2659 - val_acc: 0.8870\n",
            "Epoch 9/30\n",
            "100/100 [==============================] - 1s 5ms/step - loss: 0.2193 - acc: 0.9190 - val_loss: 0.2595 - val_acc: 0.8990\n",
            "Epoch 10/30\n",
            "100/100 [==============================] - 1s 6ms/step - loss: 0.2135 - acc: 0.9240 - val_loss: 0.2555 - val_acc: 0.8960\n",
            "Epoch 11/30\n",
            "100/100 [==============================] - 1s 6ms/step - loss: 0.2043 - acc: 0.9295 - val_loss: 0.2560 - val_acc: 0.8960\n",
            "Epoch 12/30\n",
            "100/100 [==============================] - 1s 6ms/step - loss: 0.1848 - acc: 0.9295 - val_loss: 0.2466 - val_acc: 0.9000\n",
            "Epoch 13/30\n",
            "100/100 [==============================] - 1s 6ms/step - loss: 0.1832 - acc: 0.9350 - val_loss: 0.2503 - val_acc: 0.8960\n",
            "Epoch 14/30\n",
            "100/100 [==============================] - 1s 6ms/step - loss: 0.1776 - acc: 0.9380 - val_loss: 0.2475 - val_acc: 0.9010\n",
            "Epoch 15/30\n",
            "100/100 [==============================] - 1s 6ms/step - loss: 0.1706 - acc: 0.9435 - val_loss: 0.2459 - val_acc: 0.8960\n",
            "Epoch 16/30\n",
            "100/100 [==============================] - 1s 6ms/step - loss: 0.1659 - acc: 0.9400 - val_loss: 0.2408 - val_acc: 0.9000\n",
            "Epoch 17/30\n",
            "100/100 [==============================] - 1s 6ms/step - loss: 0.1507 - acc: 0.9445 - val_loss: 0.2396 - val_acc: 0.9040\n",
            "Epoch 18/30\n",
            "100/100 [==============================] - 1s 6ms/step - loss: 0.1541 - acc: 0.9505 - val_loss: 0.2432 - val_acc: 0.8990\n",
            "Epoch 19/30\n",
            "100/100 [==============================] - 1s 6ms/step - loss: 0.1429 - acc: 0.9550 - val_loss: 0.2431 - val_acc: 0.9010\n",
            "Epoch 20/30\n",
            "100/100 [==============================] - 1s 6ms/step - loss: 0.1454 - acc: 0.9475 - val_loss: 0.2387 - val_acc: 0.9010\n",
            "Epoch 21/30\n",
            "100/100 [==============================] - 1s 6ms/step - loss: 0.1328 - acc: 0.9525 - val_loss: 0.2423 - val_acc: 0.9020\n",
            "Epoch 22/30\n",
            "100/100 [==============================] - 1s 5ms/step - loss: 0.1275 - acc: 0.9575 - val_loss: 0.2407 - val_acc: 0.9020\n",
            "Epoch 23/30\n",
            "100/100 [==============================] - 1s 6ms/step - loss: 0.1253 - acc: 0.9580 - val_loss: 0.2393 - val_acc: 0.8980\n",
            "Epoch 24/30\n",
            "100/100 [==============================] - 1s 6ms/step - loss: 0.1192 - acc: 0.9595 - val_loss: 0.2409 - val_acc: 0.9020\n",
            "Epoch 25/30\n",
            "100/100 [==============================] - 1s 6ms/step - loss: 0.1101 - acc: 0.9675 - val_loss: 0.2511 - val_acc: 0.9030\n",
            "Epoch 26/30\n",
            "100/100 [==============================] - 1s 6ms/step - loss: 0.1062 - acc: 0.9620 - val_loss: 0.2449 - val_acc: 0.9050\n",
            "Epoch 27/30\n",
            "100/100 [==============================] - 1s 6ms/step - loss: 0.1037 - acc: 0.9665 - val_loss: 0.2423 - val_acc: 0.9050\n",
            "Epoch 28/30\n",
            "100/100 [==============================] - 1s 6ms/step - loss: 0.1052 - acc: 0.9635 - val_loss: 0.2417 - val_acc: 0.9040\n",
            "Epoch 29/30\n",
            "100/100 [==============================] - 1s 6ms/step - loss: 0.0955 - acc: 0.9715 - val_loss: 0.2456 - val_acc: 0.9040\n",
            "Epoch 30/30\n",
            "100/100 [==============================] - 1s 6ms/step - loss: 0.0916 - acc: 0.9700 - val_loss: 0.2417 - val_acc: 0.9040\n"
          ],
          "name": "stdout"
        }
      ]
    },
    {
      "cell_type": "code",
      "metadata": {
        "id": "PzhaWJJgjXaZ"
      },
      "source": [
        "# plot the curve"
      ],
      "execution_count": null,
      "outputs": []
    },
    {
      "cell_type": "code",
      "metadata": {
        "colab": {
          "base_uri": "https://localhost:8080/",
          "height": 545
        },
        "id": "sbaKopyG9dKT",
        "outputId": "5c42658d-e132-451c-d15c-2cb2353e7a2a"
      },
      "source": [
        "import matplotlib.pyplot as plt\n",
        "acc = history.history['acc']\n",
        "val_acc = history.history['val_acc']\n",
        "loss = history.history['loss']\n",
        "val_loss = history.history['val_loss']\n",
        "epochs = range(1, len(acc) + 1)\n",
        "plt.plot(epochs, acc, 'bo', label='Training acc')\n",
        "plt.plot(epochs, val_acc, 'b', label='Validation acc')\n",
        "plt.title('Training and validation accuracy')\n",
        "plt.legend()\n",
        "plt.figure()\n",
        "plt.plot(epochs, loss, 'bo', label='Training loss')\n",
        "plt.plot(epochs, val_loss, 'b', label='Validation loss')\n",
        "plt.title('Training and validation loss')\n",
        "plt.legend()\n",
        "plt.show()"
      ],
      "execution_count": 41,
      "outputs": [
        {
          "output_type": "display_data",
          "data": {
            "image/png": "[encoded data removed]",
            "text/plain": [
              "<Figure size 432x288 with 1 Axes>"
            ]
          },
          "metadata": {
            "needs_background": "light"
          }
        },
        {
          "output_type": "display_data",
          "data": {
            "image/png": "[encoded data removed]",
            "text/plain": [
              "<Figure size 432x288 with 1 Axes>"
            ]
          },
          "metadata": {
            "needs_background": "light"
          }
        }
      ]
    },
    {
      "cell_type": "code",
      "metadata": {
        "id": "O2eOUgoF-mfy"
      },
      "source": [
        "\n",
        "# Listing 5.20 Adding a densely connected classifier on top of the convolutional base\n"
      ],
      "execution_count": null,
      "outputs": []
    },
    {
      "cell_type": "code",
      "metadata": {
        "id": "2tR2cwpS-Yer"
      },
      "source": [
        "from keras import models\n",
        "from keras import layers\n",
        "model = models.Sequential()\n",
        "model.add(conv_base)\n",
        "model.add(layers.Flatten())\n",
        "model.add(layers.Dense(256, activation='relu'))\n",
        "model.add(layers.Dense(1, activation='sigmoid'))"
      ],
      "execution_count": 42,
      "outputs": []
    },
    {
      "cell_type": "code",
      "metadata": {
        "colab": {
          "base_uri": "https://localhost:8080/"
        },
        "id": "ReWukLQH-bWX",
        "outputId": "0d7a4243-ec08-43ee-dc21-6bd4cb73dbbf"
      },
      "source": [
        "model.summary()"
      ],
      "execution_count": 43,
      "outputs": [
        {
          "output_type": "stream",
          "text": [
            "Model: \"sequential_7\"\n",
            "_________________________________________________________________\n",
            "Layer (type)                 Output Shape              Param #   \n",
            "=================================================================\n",
            "vgg16 (Functional)           (None, 4, 4, 512)         14714688  \n",
            "_________________________________________________________________\n",
            "flatten_4 (Flatten)          (None, 8192)              0         \n",
            "_________________________________________________________________\n",
            "dense_14 (Dense)             (None, 256)               2097408   \n",
            "_________________________________________________________________\n",
            "dense_15 (Dense)             (None, 1)                 257       \n",
            "=================================================================\n",
            "Total params: 16,812,353\n",
            "Trainable params: 16,812,353\n",
            "Non-trainable params: 0\n",
            "_________________________________________________________________\n"
          ],
          "name": "stdout"
        }
      ]
    },
    {
      "cell_type": "code",
      "metadata": {
        "colab": {
          "base_uri": "https://localhost:8080/"
        },
        "id": "jRalxHlZ_-ls",
        "outputId": "f3981a74-575a-46d4-8c5e-fa8bb7e3581b"
      },
      "source": [
        "print('This is the number of trainable weights '\n",
        "'before freezing the conv base:', len(model.trainable_weights))\n",
        "# This is the number of trainable weights before freezing the conv base: 30\n",
        "conv_base.trainable = False\n",
        "print('This is the number of trainable weights '\n",
        "'after freezing the conv base:', len(model.trainable_weights))\n",
        "# This is the number of trainable weights after freezing the conv base: 4"
      ],
      "execution_count": 45,
      "outputs": [
        {
          "output_type": "stream",
          "text": [
            "This is the number of trainable weights before freezing the conv base: 30\n",
            "This is the number of trainable weights after freezing the conv base: 4\n"
          ],
          "name": "stdout"
        }
      ]
    },
    {
      "cell_type": "code",
      "metadata": {
        "id": "RDRk6BJwAzJm"
      },
      "source": [
        "# Listing 5.21 Training the model end to end with a frozen convolutional base with 30 epocs and lr = 2e-5."
      ],
      "execution_count": null,
      "outputs": []
    },
    {
      "cell_type": "code",
      "metadata": {
        "colab": {
          "base_uri": "https://localhost:8080/"
        },
        "id": "EA0TXOMUA3Sx",
        "outputId": "1dafc7ae-b2f7-4e1b-957d-4429a67c953d"
      },
      "source": [
        "from tensorflow.keras.preprocessing.image import ImageDataGenerator\n",
        "from tensorflow.keras import optimizers\n",
        "train_datagen = ImageDataGenerator(\n",
        "rescale=1./255,\n",
        "rotation_range=40,\n",
        "width_shift_range=0.2,\n",
        "height_shift_range=0.2,\n",
        "shear_range=0.2,\n",
        "zoom_range=0.2,\n",
        "horizontal_flip=True,\n",
        "fill_mode='nearest')\n",
        "test_datagen = ImageDataGenerator(rescale=1./255)\n",
        "train_generator = train_datagen.flow_from_directory(\n",
        "train_dir,\n",
        "target_size=(150, 150),\n",
        "batch_size=20,\n",
        "class_mode='binary')\n",
        "validation_generator = test_datagen.flow_from_directory(\n",
        "validation_dir,\n",
        "target_size=(150, 150),\n",
        "batch_size=20,\n",
        "class_mode='binary')\n",
        "model.compile(loss='binary_crossentropy',\n",
        "optimizer=optimizers.RMSprop(lr=2e-5),\n",
        "metrics=['acc'])\n",
        "history = model.fit_generator(\n",
        "train_generator,\n",
        "steps_per_epoch=100,\n",
        "epochs=30,\n",
        "validation_data=validation_generator,\n",
        "validation_steps=50)"
      ],
      "execution_count": 47,
      "outputs": [
        {
          "output_type": "stream",
          "text": [
            "Found 2000 images belonging to 2 classes.\n",
            "Found 1000 images belonging to 2 classes.\n"
          ],
          "name": "stdout"
        },
        {
          "output_type": "stream",
          "text": [
            "/usr/local/lib/python3.7/dist-packages/keras/optimizer_v2/optimizer_v2.py:356: UserWarning: The `lr` argument is deprecated, use `learning_rate` instead.\n",
            "  \"The `lr` argument is deprecated, use `learning_rate` instead.\")\n",
            "/usr/local/lib/python3.7/dist-packages/keras/engine/training.py:1972: UserWarning: `Model.fit_generator` is deprecated and will be removed in a future version. Please use `Model.fit`, which supports generators.\n",
            "  warnings.warn('`Model.fit_generator` is deprecated and '\n"
          ],
          "name": "stderr"
        },
        {
          "output_type": "stream",
          "text": [
            "Epoch 1/30\n",
            "100/100 [==============================] - 28s 269ms/step - loss: 0.5892 - acc: 0.6890 - val_loss: 0.4455 - val_acc: 0.8350\n",
            "Epoch 2/30\n",
            "100/100 [==============================] - 27s 265ms/step - loss: 0.4728 - acc: 0.7935 - val_loss: 0.3634 - val_acc: 0.8630\n",
            "Epoch 3/30\n",
            "100/100 [==============================] - 26s 264ms/step - loss: 0.4273 - acc: 0.8055 - val_loss: 0.3508 - val_acc: 0.8530\n",
            "Epoch 4/30\n",
            "100/100 [==============================] - 26s 264ms/step - loss: 0.3965 - acc: 0.8250 - val_loss: 0.3127 - val_acc: 0.8830\n",
            "Epoch 5/30\n",
            "100/100 [==============================] - 26s 262ms/step - loss: 0.3791 - acc: 0.8405 - val_loss: 0.3016 - val_acc: 0.8840\n",
            "Epoch 6/30\n",
            "100/100 [==============================] - 26s 264ms/step - loss: 0.3695 - acc: 0.8380 - val_loss: 0.2825 - val_acc: 0.8860\n",
            "Epoch 7/30\n",
            "100/100 [==============================] - 26s 263ms/step - loss: 0.3563 - acc: 0.8420 - val_loss: 0.2798 - val_acc: 0.8890\n",
            "Epoch 8/30\n",
            "100/100 [==============================] - 26s 265ms/step - loss: 0.3589 - acc: 0.8455 - val_loss: 0.2728 - val_acc: 0.8860\n",
            "Epoch 9/30\n",
            "100/100 [==============================] - 27s 265ms/step - loss: 0.3508 - acc: 0.8420 - val_loss: 0.2772 - val_acc: 0.8800\n",
            "Epoch 10/30\n",
            "100/100 [==============================] - 27s 265ms/step - loss: 0.3320 - acc: 0.8545 - val_loss: 0.2619 - val_acc: 0.8940\n",
            "Epoch 11/30\n",
            "100/100 [==============================] - 27s 266ms/step - loss: 0.3361 - acc: 0.8505 - val_loss: 0.2583 - val_acc: 0.8960\n",
            "Epoch 12/30\n",
            "100/100 [==============================] - 26s 263ms/step - loss: 0.3279 - acc: 0.8535 - val_loss: 0.2635 - val_acc: 0.8940\n",
            "Epoch 13/30\n",
            "100/100 [==============================] - 27s 268ms/step - loss: 0.3057 - acc: 0.8710 - val_loss: 0.2577 - val_acc: 0.8960\n",
            "Epoch 14/30\n",
            "100/100 [==============================] - 27s 267ms/step - loss: 0.3193 - acc: 0.8635 - val_loss: 0.2512 - val_acc: 0.8980\n",
            "Epoch 15/30\n",
            "100/100 [==============================] - 27s 268ms/step - loss: 0.3093 - acc: 0.8660 - val_loss: 0.2488 - val_acc: 0.8970\n",
            "Epoch 16/30\n",
            "100/100 [==============================] - 27s 266ms/step - loss: 0.3048 - acc: 0.8615 - val_loss: 0.2465 - val_acc: 0.9020\n",
            "Epoch 17/30\n",
            "100/100 [==============================] - 27s 266ms/step - loss: 0.3107 - acc: 0.8630 - val_loss: 0.2457 - val_acc: 0.9020\n",
            "Epoch 18/30\n",
            "100/100 [==============================] - 27s 267ms/step - loss: 0.3100 - acc: 0.8605 - val_loss: 0.2535 - val_acc: 0.8950\n",
            "Epoch 19/30\n",
            "100/100 [==============================] - 26s 264ms/step - loss: 0.3041 - acc: 0.8655 - val_loss: 0.2580 - val_acc: 0.8930\n",
            "Epoch 20/30\n",
            "100/100 [==============================] - 26s 264ms/step - loss: 0.2886 - acc: 0.8690 - val_loss: 0.2451 - val_acc: 0.9020\n",
            "Epoch 21/30\n",
            "100/100 [==============================] - 26s 263ms/step - loss: 0.2993 - acc: 0.8710 - val_loss: 0.2443 - val_acc: 0.8990\n",
            "Epoch 22/30\n",
            "100/100 [==============================] - 27s 266ms/step - loss: 0.3119 - acc: 0.8615 - val_loss: 0.2571 - val_acc: 0.8890\n",
            "Epoch 23/30\n",
            "100/100 [==============================] - 26s 264ms/step - loss: 0.2916 - acc: 0.8730 - val_loss: 0.2437 - val_acc: 0.8980\n",
            "Epoch 24/30\n",
            "100/100 [==============================] - 27s 266ms/step - loss: 0.2821 - acc: 0.8815 - val_loss: 0.2413 - val_acc: 0.8980\n",
            "Epoch 25/30\n",
            "100/100 [==============================] - 27s 266ms/step - loss: 0.2867 - acc: 0.8800 - val_loss: 0.2403 - val_acc: 0.9020\n",
            "Epoch 26/30\n",
            "100/100 [==============================] - 27s 266ms/step - loss: 0.2963 - acc: 0.8790 - val_loss: 0.2397 - val_acc: 0.9000\n",
            "Epoch 27/30\n",
            "100/100 [==============================] - 27s 265ms/step - loss: 0.2895 - acc: 0.8705 - val_loss: 0.2405 - val_acc: 0.8940\n",
            "Epoch 28/30\n",
            "100/100 [==============================] - 26s 264ms/step - loss: 0.2922 - acc: 0.8760 - val_loss: 0.2411 - val_acc: 0.9000\n",
            "Epoch 29/30\n",
            "100/100 [==============================] - 27s 268ms/step - loss: 0.2760 - acc: 0.8805 - val_loss: 0.2740 - val_acc: 0.8840\n",
            "Epoch 30/30\n",
            "100/100 [==============================] - 27s 265ms/step - loss: 0.2741 - acc: 0.8830 - val_loss: 0.2420 - val_acc: 0.9010\n"
          ],
          "name": "stdout"
        }
      ]
    },
    {
      "cell_type": "code",
      "metadata": {
        "id": "n8BZ9usygZPd"
      },
      "source": [
        "# Plotting the results"
      ],
      "execution_count": null,
      "outputs": []
    },
    {
      "cell_type": "code",
      "metadata": {
        "colab": {
          "base_uri": "https://localhost:8080/",
          "height": 545
        },
        "id": "t7t1inOUEeDY",
        "outputId": "23c015e3-7154-4763-a556-e3cab18580ba"
      },
      "source": [
        "import matplotlib.pyplot as plt\n",
        "acc = history.history['acc']\n",
        "val_acc = history.history['val_acc']\n",
        "loss = history.history['loss']\n",
        "val_loss = history.history['val_loss']\n",
        "epochs = range(1, len(acc) + 1)\n",
        "plt.plot(epochs, acc, 'bo', label='Training acc')\n",
        "plt.plot(epochs, val_acc, 'b', label='Validation acc')\n",
        "plt.title('Training and validation accuracy')\n",
        "plt.legend()\n",
        "plt.figure()\n",
        "plt.plot(epochs, loss, 'bo', label='Training loss')\n",
        "plt.plot(epochs, val_loss, 'b', label='Validation loss')\n",
        "plt.title('Training and validation loss')\n",
        "plt.legend()\n",
        "plt.show()"
      ],
      "execution_count": 48,
      "outputs": [
        {
          "output_type": "display_data",
          "data": {
            "image/png": "[encoded data removed]",
            "text/plain": [
              "<Figure size 432x288 with 1 Axes>"
            ]
          },
          "metadata": {
            "needs_background": "light"
          }
        },
        {
          "output_type": "display_data",
          "data": {
            "image/png": "[encoded data removed]",
            "text/plain": [
              "<Figure size 432x288 with 1 Axes>"
            ]
          },
          "metadata": {
            "needs_background": "light"
          }
        }
      ]
    },
    {
      "cell_type": "code",
      "metadata": {
        "id": "OJzz9TpBfxA1"
      },
      "source": [
        " # Training the model end to end with a frozen convolutional base with 20 epochs and lr = 2e-3."
      ],
      "execution_count": null,
      "outputs": []
    },
    {
      "cell_type": "code",
      "metadata": {
        "colab": {
          "base_uri": "https://localhost:8080/"
        },
        "id": "e9B7s5n2Fl9Q",
        "outputId": "3300bdf4-e023-41ca-a851-041850c8e4a3"
      },
      "source": [
        "from tensorflow.keras.preprocessing.image import ImageDataGenerator\n",
        "from tensorflow.keras import optimizers\n",
        "train_datagen = ImageDataGenerator(\n",
        "rescale=1./255,\n",
        "rotation_range=40,\n",
        "width_shift_range=0.2,\n",
        "height_shift_range=0.2,\n",
        "shear_range=0.2,\n",
        "zoom_range=0.2,\n",
        "horizontal_flip=True,\n",
        "fill_mode='nearest')\n",
        "test_datagen = ImageDataGenerator(rescale=1./255)\n",
        "train_generator = train_datagen.flow_from_directory(\n",
        "train_dir,\n",
        "target_size=(150, 150),\n",
        "batch_size=20,\n",
        "class_mode='binary')\n",
        "validation_generator = test_datagen.flow_from_directory(\n",
        "validation_dir,\n",
        "target_size=(150, 150),\n",
        "batch_size=20,\n",
        "class_mode='binary')\n",
        "model.compile(loss='binary_crossentropy',\n",
        "optimizer=optimizers.RMSprop(lr=2e-3),\n",
        "metrics=['acc'])\n",
        "history = model.fit_generator(\n",
        "train_generator,\n",
        "steps_per_epoch=100,\n",
        "epochs=20,\n",
        "validation_data=validation_generator,\n",
        "validation_steps=50)"
      ],
      "execution_count": 49,
      "outputs": [
        {
          "output_type": "stream",
          "text": [
            "Found 2000 images belonging to 2 classes.\n",
            "Found 1000 images belonging to 2 classes.\n"
          ],
          "name": "stdout"
        },
        {
          "output_type": "stream",
          "text": [
            "/usr/local/lib/python3.7/dist-packages/keras/optimizer_v2/optimizer_v2.py:356: UserWarning: The `lr` argument is deprecated, use `learning_rate` instead.\n",
            "  \"The `lr` argument is deprecated, use `learning_rate` instead.\")\n",
            "/usr/local/lib/python3.7/dist-packages/keras/engine/training.py:1972: UserWarning: `Model.fit_generator` is deprecated and will be removed in a future version. Please use `Model.fit`, which supports generators.\n",
            "  warnings.warn('`Model.fit_generator` is deprecated and '\n"
          ],
          "name": "stderr"
        },
        {
          "output_type": "stream",
          "text": [
            "Epoch 1/20\n",
            "100/100 [==============================] - 28s 268ms/step - loss: 1.0694 - acc: 0.7035 - val_loss: 0.3629 - val_acc: 0.8130\n",
            "Epoch 2/20\n",
            "100/100 [==============================] - 26s 264ms/step - loss: 0.4749 - acc: 0.7755 - val_loss: 0.2751 - val_acc: 0.8880\n",
            "Epoch 3/20\n",
            "100/100 [==============================] - 27s 266ms/step - loss: 0.4057 - acc: 0.8165 - val_loss: 0.3791 - val_acc: 0.8270\n",
            "Epoch 4/20\n",
            "100/100 [==============================] - 26s 264ms/step - loss: 0.3875 - acc: 0.8250 - val_loss: 0.4021 - val_acc: 0.8170\n",
            "Epoch 5/20\n",
            "100/100 [==============================] - 27s 267ms/step - loss: 0.3789 - acc: 0.8350 - val_loss: 0.2625 - val_acc: 0.8950\n",
            "Epoch 6/20\n",
            "100/100 [==============================] - 26s 265ms/step - loss: 0.3716 - acc: 0.8250 - val_loss: 0.2455 - val_acc: 0.9100\n",
            "Epoch 7/20\n",
            "100/100 [==============================] - 27s 265ms/step - loss: 0.3587 - acc: 0.8385 - val_loss: 0.2563 - val_acc: 0.8920\n",
            "Epoch 8/20\n",
            "100/100 [==============================] - 27s 268ms/step - loss: 0.3499 - acc: 0.8450 - val_loss: 0.2550 - val_acc: 0.8920\n",
            "Epoch 9/20\n",
            "100/100 [==============================] - 27s 267ms/step - loss: 0.3372 - acc: 0.8470 - val_loss: 0.2396 - val_acc: 0.9060\n",
            "Epoch 10/20\n",
            "100/100 [==============================] - 27s 267ms/step - loss: 0.3498 - acc: 0.8460 - val_loss: 0.2669 - val_acc: 0.8840\n",
            "Epoch 11/20\n",
            "100/100 [==============================] - 27s 267ms/step - loss: 0.3264 - acc: 0.8570 - val_loss: 0.2774 - val_acc: 0.8900\n",
            "Epoch 12/20\n",
            "100/100 [==============================] - 27s 269ms/step - loss: 0.3069 - acc: 0.8640 - val_loss: 0.2589 - val_acc: 0.8970\n",
            "Epoch 13/20\n",
            "100/100 [==============================] - 27s 269ms/step - loss: 0.3020 - acc: 0.8685 - val_loss: 0.2552 - val_acc: 0.8970\n",
            "Epoch 14/20\n",
            "100/100 [==============================] - 27s 267ms/step - loss: 0.3198 - acc: 0.8675 - val_loss: 0.2557 - val_acc: 0.8970\n",
            "Epoch 15/20\n",
            "100/100 [==============================] - 27s 266ms/step - loss: 0.3027 - acc: 0.8625 - val_loss: 0.2625 - val_acc: 0.8990\n",
            "Epoch 16/20\n",
            "100/100 [==============================] - 27s 268ms/step - loss: 0.3108 - acc: 0.8675 - val_loss: 0.2430 - val_acc: 0.9010\n",
            "Epoch 17/20\n",
            "100/100 [==============================] - 27s 269ms/step - loss: 0.3135 - acc: 0.8685 - val_loss: 0.2440 - val_acc: 0.9070\n",
            "Epoch 18/20\n",
            "100/100 [==============================] - 27s 269ms/step - loss: 0.2924 - acc: 0.8720 - val_loss: 0.2639 - val_acc: 0.9050\n",
            "Epoch 19/20\n",
            "100/100 [==============================] - 27s 269ms/step - loss: 0.2835 - acc: 0.8730 - val_loss: 0.2764 - val_acc: 0.8890\n",
            "Epoch 20/20\n",
            "100/100 [==============================] - 27s 268ms/step - loss: 0.3094 - acc: 0.8695 - val_loss: 0.2538 - val_acc: 0.8950\n"
          ],
          "name": "stdout"
        }
      ]
    },
    {
      "cell_type": "code",
      "metadata": {
        "id": "i_GpaGcjglli"
      },
      "source": [
        "# Plotting the results"
      ],
      "execution_count": null,
      "outputs": []
    },
    {
      "cell_type": "code",
      "metadata": {
        "colab": {
          "base_uri": "https://localhost:8080/",
          "height": 545
        },
        "id": "eSJY4GwIEy8R",
        "outputId": "a02ca1a0-91f9-4269-ac52-87082a1157c3"
      },
      "source": [
        "import matplotlib.pyplot as plt\n",
        "acc = history.history['acc']\n",
        "val_acc = history.history['val_acc']\n",
        "loss = history.history['loss']\n",
        "val_loss = history.history['val_loss']\n",
        "epochs = range(1, len(acc) + 1)\n",
        "plt.plot(epochs, acc, 'bo', label='Training acc')\n",
        "plt.plot(epochs, val_acc, 'b', label='Validation acc')\n",
        "plt.title('Training and validation accuracy')\n",
        "plt.legend()\n",
        "plt.figure()\n",
        "plt.plot(epochs, loss, 'bo', label='Training loss')\n",
        "plt.plot(epochs, val_loss, 'b', label='Validation loss')\n",
        "plt.title('Training and validation loss')\n",
        "plt.legend()\n",
        "plt.show()"
      ],
      "execution_count": 50,
      "outputs": [
        {
          "output_type": "display_data",
          "data": {
            "image/png": "[encoded data removed]",
            "text/plain": [
              "<Figure size 432x288 with 1 Axes>"
            ]
          },
          "metadata": {
            "needs_background": "light"
          }
        },
        {
          "output_type": "display_data",
          "data": {
            "image/png": "[encoded data removed]",
            "text/plain": [
              "<Figure size 432x288 with 1 Axes>"
            ]
          },
          "metadata": {
            "needs_background": "light"
          }
        }
      ]
    },
    {
      "cell_type": "code",
      "metadata": {
        "id": "15Ea0uBmfHuU"
      },
      "source": [
        "# Training the model end to end with a frozen convolutional base with 06 epocs and learning rate =2e-3"
      ],
      "execution_count": null,
      "outputs": []
    },
    {
      "cell_type": "code",
      "metadata": {
        "colab": {
          "base_uri": "https://localhost:8080/"
        },
        "id": "T0coL6kfISsU",
        "outputId": "56d53ea6-9254-4e1a-941f-be51d04304bf"
      },
      "source": [
        "from tensorflow.keras.preprocessing.image import ImageDataGenerator\n",
        "from tensorflow.keras import optimizers\n",
        "train_datagen = ImageDataGenerator(\n",
        "rescale=1./255,\n",
        "rotation_range=40,\n",
        "width_shift_range=0.2,\n",
        "height_shift_range=0.2,\n",
        "shear_range=0.2,\n",
        "zoom_range=0.2,\n",
        "horizontal_flip=True,\n",
        "fill_mode='nearest')\n",
        "test_datagen = ImageDataGenerator(rescale=1./255)\n",
        "train_generator = train_datagen.flow_from_directory(\n",
        "train_dir,\n",
        "target_size=(150, 150),\n",
        "batch_size=20,\n",
        "class_mode='binary')\n",
        "validation_generator = test_datagen.flow_from_directory(\n",
        "validation_dir,\n",
        "target_size=(150, 150),\n",
        "batch_size=20,\n",
        "class_mode='binary')\n",
        "model.compile(loss='binary_crossentropy',\n",
        "optimizer=optimizers.RMSprop(lr=2e-3),\n",
        "metrics=['acc'])\n",
        "history = model.fit_generator(\n",
        "train_generator,\n",
        "steps_per_epoch=100,\n",
        "epochs=6,\n",
        "validation_data=validation_generator,\n",
        "validation_steps=50)"
      ],
      "execution_count": 51,
      "outputs": [
        {
          "output_type": "stream",
          "text": [
            "Found 2000 images belonging to 2 classes.\n",
            "Found 1000 images belonging to 2 classes.\n"
          ],
          "name": "stdout"
        },
        {
          "output_type": "stream",
          "text": [
            "/usr/local/lib/python3.7/dist-packages/keras/optimizer_v2/optimizer_v2.py:356: UserWarning: The `lr` argument is deprecated, use `learning_rate` instead.\n",
            "  \"The `lr` argument is deprecated, use `learning_rate` instead.\")\n",
            "/usr/local/lib/python3.7/dist-packages/keras/engine/training.py:1972: UserWarning: `Model.fit_generator` is deprecated and will be removed in a future version. Please use `Model.fit`, which supports generators.\n",
            "  warnings.warn('`Model.fit_generator` is deprecated and '\n"
          ],
          "name": "stderr"
        },
        {
          "output_type": "stream",
          "text": [
            "Epoch 1/6\n",
            "100/100 [==============================] - 28s 271ms/step - loss: 0.2953 - acc: 0.8750 - val_loss: 0.2814 - val_acc: 0.8970\n",
            "Epoch 2/6\n",
            "100/100 [==============================] - 27s 266ms/step - loss: 0.2806 - acc: 0.8800 - val_loss: 0.2452 - val_acc: 0.9040\n",
            "Epoch 3/6\n",
            "100/100 [==============================] - 27s 266ms/step - loss: 0.2803 - acc: 0.8780 - val_loss: 0.2594 - val_acc: 0.8970\n",
            "Epoch 4/6\n",
            "100/100 [==============================] - 27s 265ms/step - loss: 0.2869 - acc: 0.8795 - val_loss: 0.2627 - val_acc: 0.8990\n",
            "Epoch 5/6\n",
            "100/100 [==============================] - 27s 266ms/step - loss: 0.2741 - acc: 0.8870 - val_loss: 0.3083 - val_acc: 0.8880\n",
            "Epoch 6/6\n",
            "100/100 [==============================] - 26s 265ms/step - loss: 0.2863 - acc: 0.8750 - val_loss: 0.2652 - val_acc: 0.9030\n"
          ],
          "name": "stdout"
        }
      ]
    },
    {
      "cell_type": "code",
      "metadata": {
        "id": "9pYY1lpQeqca"
      },
      "source": [
        "# Plotting the results"
      ],
      "execution_count": null,
      "outputs": []
    },
    {
      "cell_type": "code",
      "metadata": {
        "colab": {
          "base_uri": "https://localhost:8080/",
          "height": 545
        },
        "id": "271x2mv4Jbvf",
        "outputId": "66830e1b-e814-4887-8bb6-13e7d16a1268"
      },
      "source": [
        "import matplotlib.pyplot as plt\n",
        "acc = history.history['acc']\n",
        "val_acc = history.history['val_acc']\n",
        "loss = history.history['loss']\n",
        "val_loss = history.history['val_loss']\n",
        "epochs = range(1, len(acc) + 1)\n",
        "plt.plot(epochs, acc, 'bo', label='Training acc')\n",
        "plt.plot(epochs, val_acc, 'b', label='Validation acc')\n",
        "plt.title('Training and validation accuracy')\n",
        "plt.legend()\n",
        "plt.figure()\n",
        "plt.plot(epochs, loss, 'bo', label='Training loss')\n",
        "plt.plot(epochs, val_loss, 'b', label='Validation loss')\n",
        "plt.title('Training and validation loss')\n",
        "plt.legend()\n",
        "plt.show()"
      ],
      "execution_count": 52,
      "outputs": [
        {
          "output_type": "display_data",
          "data": {
            "image/png": "[encoded data removed]",
            "text/plain": [
              "<Figure size 432x288 with 1 Axes>"
            ]
          },
          "metadata": {
            "needs_background": "light"
          }
        },
        {
          "output_type": "display_data",
          "data": {
            "image/png": "[encoded data removed]",
            "text/plain": [
              "<Figure size 432x288 with 1 Axes>"
            ]
          },
          "metadata": {
            "needs_background": "light"
          }
        }
      ]
    },
    {
      "cell_type": "code",
      "metadata": {
        "id": "7On9pYcFbf8y"
      },
      "source": [
        "# convolutional base looks like:"
      ],
      "execution_count": null,
      "outputs": []
    },
    {
      "cell_type": "code",
      "metadata": {
        "colab": {
          "base_uri": "https://localhost:8080/"
        },
        "id": "ZXu7Zl6zJk19",
        "outputId": "3547b73a-4ba3-4e66-bde1-725601db8741"
      },
      "source": [
        "conv_base.summary()"
      ],
      "execution_count": 54,
      "outputs": [
        {
          "output_type": "stream",
          "text": [
            "Model: \"vgg16\"\n",
            "_________________________________________________________________\n",
            "Layer (type)                 Output Shape              Param #   \n",
            "=================================================================\n",
            "input_1 (InputLayer)         [(None, 150, 150, 3)]     0         \n",
            "_________________________________________________________________\n",
            "block1_conv1 (Conv2D)        (None, 150, 150, 64)      1792      \n",
            "_________________________________________________________________\n",
            "block1_conv2 (Conv2D)        (None, 150, 150, 64)      36928     \n",
            "_________________________________________________________________\n",
            "block1_pool (MaxPooling2D)   (None, 75, 75, 64)        0         \n",
            "_________________________________________________________________\n",
            "block2_conv1 (Conv2D)        (None, 75, 75, 128)       73856     \n",
            "_________________________________________________________________\n",
            "block2_conv2 (Conv2D)        (None, 75, 75, 128)       147584    \n",
            "_________________________________________________________________\n",
            "block2_pool (MaxPooling2D)   (None, 37, 37, 128)       0         \n",
            "_________________________________________________________________\n",
            "block3_conv1 (Conv2D)        (None, 37, 37, 256)       295168    \n",
            "_________________________________________________________________\n",
            "block3_conv2 (Conv2D)        (None, 37, 37, 256)       590080    \n",
            "_________________________________________________________________\n",
            "block3_conv3 (Conv2D)        (None, 37, 37, 256)       590080    \n",
            "_________________________________________________________________\n",
            "block3_pool (MaxPooling2D)   (None, 18, 18, 256)       0         \n",
            "_________________________________________________________________\n",
            "block4_conv1 (Conv2D)        (None, 18, 18, 512)       1180160   \n",
            "_________________________________________________________________\n",
            "block4_conv2 (Conv2D)        (None, 18, 18, 512)       2359808   \n",
            "_________________________________________________________________\n",
            "block4_conv3 (Conv2D)        (None, 18, 18, 512)       2359808   \n",
            "_________________________________________________________________\n",
            "block4_pool (MaxPooling2D)   (None, 9, 9, 512)         0         \n",
            "_________________________________________________________________\n",
            "block5_conv1 (Conv2D)        (None, 9, 9, 512)         2359808   \n",
            "_________________________________________________________________\n",
            "block5_conv2 (Conv2D)        (None, 9, 9, 512)         2359808   \n",
            "_________________________________________________________________\n",
            "block5_conv3 (Conv2D)        (None, 9, 9, 512)         2359808   \n",
            "_________________________________________________________________\n",
            "block5_pool (MaxPooling2D)   (None, 4, 4, 512)         0         \n",
            "=================================================================\n",
            "Total params: 14,714,688\n",
            "Trainable params: 0\n",
            "Non-trainable params: 14,714,688\n",
            "_________________________________________________________________\n"
          ],
          "name": "stdout"
        }
      ]
    },
    {
      "cell_type": "code",
      "metadata": {
        "id": "Ias8LF4feLZC"
      },
      "source": [
        "# Listing 5.22 Freezing all layers up to a specific one"
      ],
      "execution_count": null,
      "outputs": []
    },
    {
      "cell_type": "code",
      "metadata": {
        "id": "AYvkpeYLKGvF"
      },
      "source": [
        "conv_base.trainable = True\n",
        "\n",
        "set_trainable = False\n",
        "for layer in conv_base.layers:\n",
        "    if layer.name == 'block5_conv1':\n",
        "        set_trainable = True\n",
        "if set_trainable:\n",
        "        layer.trainable = True\n",
        "else:\n",
        "    layer.trainable = False"
      ],
      "execution_count": 56,
      "outputs": []
    },
    {
      "cell_type": "code",
      "metadata": {
        "id": "U78t3cBzd77G"
      },
      "source": [
        "# Listing 5.23 Fine-tuning the model"
      ],
      "execution_count": null,
      "outputs": []
    },
    {
      "cell_type": "code",
      "metadata": {
        "colab": {
          "base_uri": "https://localhost:8080/"
        },
        "id": "uMRYwnOSK3te",
        "outputId": "a9c61363-f168-44a3-e369-8385d4074888"
      },
      "source": [
        "model.compile(loss='binary_crossentropy',\n",
        "optimizer=optimizers.RMSprop(lr=1e-5),\n",
        "metrics=['acc'])\n",
        "history = model.fit_generator(\n",
        "train_generator,\n",
        "steps_per_epoch=100,\n",
        "epochs=100,\n",
        "validation_data=validation_generator,\n",
        "validation_steps=50)"
      ],
      "execution_count": 57,
      "outputs": [
        {
          "output_type": "stream",
          "text": [
            "/usr/local/lib/python3.7/dist-packages/keras/optimizer_v2/optimizer_v2.py:356: UserWarning: The `lr` argument is deprecated, use `learning_rate` instead.\n",
            "  \"The `lr` argument is deprecated, use `learning_rate` instead.\")\n",
            "/usr/local/lib/python3.7/dist-packages/keras/engine/training.py:1972: UserWarning: `Model.fit_generator` is deprecated and will be removed in a future version. Please use `Model.fit`, which supports generators.\n",
            "  warnings.warn('`Model.fit_generator` is deprecated and '\n"
          ],
          "name": "stderr"
        },
        {
          "output_type": "stream",
          "text": [
            "Epoch 1/100\n",
            "100/100 [==============================] - 48s 423ms/step - loss: 0.2949 - acc: 0.8820 - val_loss: 0.2138 - val_acc: 0.9290\n",
            "Epoch 2/100\n",
            "100/100 [==============================] - 42s 419ms/step - loss: 0.2161 - acc: 0.9135 - val_loss: 0.2722 - val_acc: 0.9210\n",
            "Epoch 3/100\n",
            "100/100 [==============================] - 42s 419ms/step - loss: 0.1876 - acc: 0.9270 - val_loss: 0.1638 - val_acc: 0.9410\n",
            "Epoch 4/100\n",
            "100/100 [==============================] - 42s 419ms/step - loss: 0.1698 - acc: 0.9295 - val_loss: 0.6037 - val_acc: 0.8820\n",
            "Epoch 5/100\n",
            "100/100 [==============================] - 42s 418ms/step - loss: 0.1421 - acc: 0.9385 - val_loss: 0.1522 - val_acc: 0.9460\n",
            "Epoch 6/100\n",
            "100/100 [==============================] - 42s 418ms/step - loss: 0.1407 - acc: 0.9405 - val_loss: 0.1329 - val_acc: 0.9430\n",
            "Epoch 7/100\n",
            "100/100 [==============================] - 42s 418ms/step - loss: 0.1174 - acc: 0.9540 - val_loss: 0.1301 - val_acc: 0.9540\n",
            "Epoch 8/100\n",
            "100/100 [==============================] - 42s 417ms/step - loss: 0.1046 - acc: 0.9610 - val_loss: 0.1436 - val_acc: 0.9480\n",
            "Epoch 9/100\n",
            "100/100 [==============================] - 42s 417ms/step - loss: 0.0886 - acc: 0.9680 - val_loss: 0.1709 - val_acc: 0.9390\n",
            "Epoch 10/100\n",
            "100/100 [==============================] - 42s 418ms/step - loss: 0.0804 - acc: 0.9695 - val_loss: 0.1146 - val_acc: 0.9630\n",
            "Epoch 11/100\n",
            "100/100 [==============================] - 42s 417ms/step - loss: 0.0813 - acc: 0.9730 - val_loss: 0.1413 - val_acc: 0.9600\n",
            "Epoch 12/100\n",
            "100/100 [==============================] - 42s 417ms/step - loss: 0.0726 - acc: 0.9705 - val_loss: 0.2618 - val_acc: 0.9440\n",
            "Epoch 13/100\n",
            "100/100 [==============================] - 42s 419ms/step - loss: 0.0695 - acc: 0.9770 - val_loss: 0.5930 - val_acc: 0.9090\n",
            "Epoch 14/100\n",
            "100/100 [==============================] - 42s 419ms/step - loss: 0.0748 - acc: 0.9720 - val_loss: 0.2107 - val_acc: 0.9550\n",
            "Epoch 15/100\n",
            "100/100 [==============================] - 42s 417ms/step - loss: 0.0553 - acc: 0.9830 - val_loss: 0.2038 - val_acc: 0.9560\n",
            "Epoch 16/100\n",
            "100/100 [==============================] - 42s 417ms/step - loss: 0.0507 - acc: 0.9835 - val_loss: 0.1536 - val_acc: 0.9690\n",
            "Epoch 17/100\n",
            "100/100 [==============================] - 42s 416ms/step - loss: 0.0396 - acc: 0.9850 - val_loss: 0.2563 - val_acc: 0.9630\n",
            "Epoch 18/100\n",
            "100/100 [==============================] - 42s 417ms/step - loss: 0.0497 - acc: 0.9825 - val_loss: 0.1499 - val_acc: 0.9710\n",
            "Epoch 19/100\n",
            "100/100 [==============================] - 42s 417ms/step - loss: 0.0480 - acc: 0.9825 - val_loss: 0.1386 - val_acc: 0.9580\n",
            "Epoch 20/100\n",
            "100/100 [==============================] - 42s 416ms/step - loss: 0.0433 - acc: 0.9855 - val_loss: 0.1253 - val_acc: 0.9700\n",
            "Epoch 21/100\n",
            "100/100 [==============================] - 42s 416ms/step - loss: 0.0458 - acc: 0.9855 - val_loss: 0.1082 - val_acc: 0.9670\n",
            "Epoch 22/100\n",
            "100/100 [==============================] - 42s 417ms/step - loss: 0.0387 - acc: 0.9875 - val_loss: 0.1432 - val_acc: 0.9750\n",
            "Epoch 23/100\n",
            "100/100 [==============================] - 42s 416ms/step - loss: 0.0367 - acc: 0.9890 - val_loss: 0.1190 - val_acc: 0.9690\n",
            "Epoch 24/100\n",
            "100/100 [==============================] - 42s 416ms/step - loss: 0.0335 - acc: 0.9875 - val_loss: 0.1691 - val_acc: 0.9680\n",
            "Epoch 25/100\n",
            "100/100 [==============================] - 42s 416ms/step - loss: 0.0405 - acc: 0.9890 - val_loss: 0.1541 - val_acc: 0.9650\n",
            "Epoch 26/100\n",
            "100/100 [==============================] - 42s 416ms/step - loss: 0.0261 - acc: 0.9900 - val_loss: 0.2398 - val_acc: 0.9430\n",
            "Epoch 27/100\n",
            "100/100 [==============================] - 42s 417ms/step - loss: 0.0383 - acc: 0.9875 - val_loss: 0.1478 - val_acc: 0.9740\n",
            "Epoch 28/100\n",
            "100/100 [==============================] - 42s 416ms/step - loss: 0.0438 - acc: 0.9870 - val_loss: 0.1410 - val_acc: 0.9770\n",
            "Epoch 29/100\n",
            "100/100 [==============================] - 42s 416ms/step - loss: 0.0301 - acc: 0.9865 - val_loss: 0.1494 - val_acc: 0.9590\n",
            "Epoch 30/100\n",
            "100/100 [==============================] - 42s 416ms/step - loss: 0.0419 - acc: 0.9875 - val_loss: 0.2065 - val_acc: 0.9580\n",
            "Epoch 31/100\n",
            "100/100 [==============================] - 42s 416ms/step - loss: 0.0335 - acc: 0.9885 - val_loss: 0.1962 - val_acc: 0.9670\n",
            "Epoch 32/100\n",
            "100/100 [==============================] - 42s 417ms/step - loss: 0.0282 - acc: 0.9920 - val_loss: 0.1565 - val_acc: 0.9780\n",
            "Epoch 33/100\n",
            "100/100 [==============================] - 42s 416ms/step - loss: 0.0398 - acc: 0.9905 - val_loss: 0.1490 - val_acc: 0.9740\n",
            "Epoch 34/100\n",
            "100/100 [==============================] - 42s 416ms/step - loss: 0.0311 - acc: 0.9875 - val_loss: 0.1809 - val_acc: 0.9620\n",
            "Epoch 35/100\n",
            "100/100 [==============================] - 42s 416ms/step - loss: 0.0294 - acc: 0.9915 - val_loss: 0.1450 - val_acc: 0.9680\n",
            "Epoch 36/100\n",
            "100/100 [==============================] - 42s 416ms/step - loss: 0.0231 - acc: 0.9920 - val_loss: 0.3290 - val_acc: 0.9560\n",
            "Epoch 37/100\n",
            "100/100 [==============================] - 42s 415ms/step - loss: 0.0207 - acc: 0.9915 - val_loss: 0.1644 - val_acc: 0.9780\n",
            "Epoch 38/100\n",
            "100/100 [==============================] - 42s 416ms/step - loss: 0.0266 - acc: 0.9900 - val_loss: 0.1576 - val_acc: 0.9670\n",
            "Epoch 39/100\n",
            "100/100 [==============================] - 42s 416ms/step - loss: 0.0322 - acc: 0.9895 - val_loss: 0.1136 - val_acc: 0.9720\n",
            "Epoch 40/100\n",
            "100/100 [==============================] - 42s 415ms/step - loss: 0.0148 - acc: 0.9930 - val_loss: 0.1720 - val_acc: 0.9670\n",
            "Epoch 41/100\n",
            "100/100 [==============================] - 42s 415ms/step - loss: 0.0170 - acc: 0.9945 - val_loss: 0.1686 - val_acc: 0.9690\n",
            "Epoch 42/100\n",
            "100/100 [==============================] - 42s 416ms/step - loss: 0.0244 - acc: 0.9930 - val_loss: 0.1464 - val_acc: 0.9710\n",
            "Epoch 43/100\n",
            "100/100 [==============================] - 42s 415ms/step - loss: 0.0194 - acc: 0.9925 - val_loss: 0.1585 - val_acc: 0.9670\n",
            "Epoch 44/100\n",
            "100/100 [==============================] - 42s 415ms/step - loss: 0.0189 - acc: 0.9930 - val_loss: 0.1823 - val_acc: 0.9660\n",
            "Epoch 45/100\n",
            "100/100 [==============================] - 42s 414ms/step - loss: 0.0271 - acc: 0.9885 - val_loss: 0.1733 - val_acc: 0.9670\n",
            "Epoch 46/100\n",
            "100/100 [==============================] - 42s 415ms/step - loss: 0.0226 - acc: 0.9940 - val_loss: 0.2781 - val_acc: 0.9610\n",
            "Epoch 47/100\n",
            "100/100 [==============================] - 42s 414ms/step - loss: 0.0187 - acc: 0.9920 - val_loss: 0.3315 - val_acc: 0.9560\n",
            "Epoch 48/100\n",
            "100/100 [==============================] - 41s 414ms/step - loss: 0.0219 - acc: 0.9925 - val_loss: 0.1732 - val_acc: 0.9650\n",
            "Epoch 49/100\n",
            "100/100 [==============================] - 41s 413ms/step - loss: 0.0130 - acc: 0.9955 - val_loss: 0.1684 - val_acc: 0.9700\n",
            "Epoch 50/100\n",
            "100/100 [==============================] - 41s 413ms/step - loss: 0.0290 - acc: 0.9900 - val_loss: 0.2043 - val_acc: 0.9640\n",
            "Epoch 51/100\n",
            "100/100 [==============================] - 41s 413ms/step - loss: 0.0185 - acc: 0.9930 - val_loss: 0.1581 - val_acc: 0.9710\n",
            "Epoch 52/100\n",
            "100/100 [==============================] - 41s 413ms/step - loss: 0.0119 - acc: 0.9970 - val_loss: 0.2092 - val_acc: 0.9660\n",
            "Epoch 53/100\n",
            "100/100 [==============================] - 41s 412ms/step - loss: 0.0197 - acc: 0.9945 - val_loss: 0.2278 - val_acc: 0.9680\n",
            "Epoch 54/100\n",
            "100/100 [==============================] - 41s 413ms/step - loss: 0.0159 - acc: 0.9950 - val_loss: 0.1516 - val_acc: 0.9760\n",
            "Epoch 55/100\n",
            "100/100 [==============================] - 41s 413ms/step - loss: 0.0261 - acc: 0.9950 - val_loss: 0.1468 - val_acc: 0.9800\n",
            "Epoch 56/100\n",
            "100/100 [==============================] - 41s 412ms/step - loss: 0.0271 - acc: 0.9915 - val_loss: 0.1840 - val_acc: 0.9730\n",
            "Epoch 57/100\n",
            "100/100 [==============================] - 41s 413ms/step - loss: 0.0284 - acc: 0.9925 - val_loss: 0.3042 - val_acc: 0.9650\n",
            "Epoch 58/100\n",
            "100/100 [==============================] - 41s 413ms/step - loss: 0.0190 - acc: 0.9945 - val_loss: 0.4064 - val_acc: 0.9530\n",
            "Epoch 59/100\n",
            "100/100 [==============================] - 41s 413ms/step - loss: 0.0165 - acc: 0.9935 - val_loss: 0.2016 - val_acc: 0.9630\n",
            "Epoch 60/100\n",
            "100/100 [==============================] - 41s 412ms/step - loss: 0.0096 - acc: 0.9980 - val_loss: 0.1814 - val_acc: 0.9750\n",
            "Epoch 61/100\n",
            "100/100 [==============================] - 41s 413ms/step - loss: 0.0183 - acc: 0.9930 - val_loss: 0.2421 - val_acc: 0.9670\n",
            "Epoch 62/100\n",
            "100/100 [==============================] - 41s 413ms/step - loss: 0.0242 - acc: 0.9945 - val_loss: 0.1630 - val_acc: 0.9770\n",
            "Epoch 63/100\n",
            "100/100 [==============================] - 41s 413ms/step - loss: 0.0116 - acc: 0.9965 - val_loss: 0.1876 - val_acc: 0.9720\n",
            "Epoch 64/100\n",
            "100/100 [==============================] - 41s 413ms/step - loss: 0.0192 - acc: 0.9935 - val_loss: 0.2308 - val_acc: 0.9720\n",
            "Epoch 65/100\n",
            "100/100 [==============================] - 41s 412ms/step - loss: 0.0166 - acc: 0.9930 - val_loss: 0.1545 - val_acc: 0.9790\n",
            "Epoch 66/100\n",
            "100/100 [==============================] - 41s 413ms/step - loss: 0.0175 - acc: 0.9945 - val_loss: 0.2215 - val_acc: 0.9670\n",
            "Epoch 67/100\n",
            "100/100 [==============================] - 41s 412ms/step - loss: 0.0145 - acc: 0.9940 - val_loss: 0.2299 - val_acc: 0.9650\n",
            "Epoch 68/100\n",
            "100/100 [==============================] - 41s 412ms/step - loss: 0.0229 - acc: 0.9930 - val_loss: 0.1902 - val_acc: 0.9720\n",
            "Epoch 69/100\n",
            "100/100 [==============================] - 41s 412ms/step - loss: 0.0168 - acc: 0.9975 - val_loss: 0.2314 - val_acc: 0.9720\n",
            "Epoch 70/100\n",
            "100/100 [==============================] - 41s 413ms/step - loss: 0.0065 - acc: 0.9970 - val_loss: 0.2104 - val_acc: 0.9670\n",
            "Epoch 71/100\n",
            "100/100 [==============================] - 41s 412ms/step - loss: 0.0154 - acc: 0.9950 - val_loss: 0.3011 - val_acc: 0.9660\n",
            "Epoch 72/100\n",
            "100/100 [==============================] - 41s 412ms/step - loss: 0.0165 - acc: 0.9950 - val_loss: 0.1892 - val_acc: 0.9670\n",
            "Epoch 73/100\n",
            "100/100 [==============================] - 41s 412ms/step - loss: 0.0135 - acc: 0.9965 - val_loss: 0.2190 - val_acc: 0.9730\n",
            "Epoch 74/100\n",
            "100/100 [==============================] - 41s 413ms/step - loss: 0.0080 - acc: 0.9980 - val_loss: 0.1931 - val_acc: 0.9760\n",
            "Epoch 75/100\n",
            "100/100 [==============================] - 41s 412ms/step - loss: 0.0210 - acc: 0.9980 - val_loss: 0.2498 - val_acc: 0.9720\n",
            "Epoch 76/100\n",
            "100/100 [==============================] - 41s 412ms/step - loss: 0.0069 - acc: 0.9975 - val_loss: 0.4188 - val_acc: 0.9490\n",
            "Epoch 77/100\n",
            "100/100 [==============================] - 41s 412ms/step - loss: 0.0134 - acc: 0.9940 - val_loss: 0.3490 - val_acc: 0.9660\n",
            "Epoch 78/100\n",
            "100/100 [==============================] - 41s 412ms/step - loss: 0.0227 - acc: 0.9960 - val_loss: 0.3066 - val_acc: 0.9520\n",
            "Epoch 79/100\n",
            "100/100 [==============================] - 41s 412ms/step - loss: 0.0050 - acc: 0.9980 - val_loss: 0.2028 - val_acc: 0.9720\n",
            "Epoch 80/100\n",
            "100/100 [==============================] - 41s 412ms/step - loss: 0.0243 - acc: 0.9945 - val_loss: 0.2096 - val_acc: 0.9740\n",
            "Epoch 81/100\n",
            "100/100 [==============================] - 41s 412ms/step - loss: 0.0091 - acc: 0.9975 - val_loss: 0.3305 - val_acc: 0.9690\n",
            "Epoch 82/100\n",
            "100/100 [==============================] - 41s 413ms/step - loss: 0.0097 - acc: 0.9955 - val_loss: 0.3077 - val_acc: 0.9620\n",
            "Epoch 83/100\n",
            "100/100 [==============================] - 41s 413ms/step - loss: 0.0101 - acc: 0.9965 - val_loss: 0.1881 - val_acc: 0.9750\n",
            "Epoch 84/100\n",
            "100/100 [==============================] - 41s 412ms/step - loss: 0.0072 - acc: 0.9970 - val_loss: 0.2315 - val_acc: 0.9720\n",
            "Epoch 85/100\n",
            "100/100 [==============================] - 41s 412ms/step - loss: 0.0124 - acc: 0.9960 - val_loss: 0.2557 - val_acc: 0.9620\n",
            "Epoch 86/100\n",
            "100/100 [==============================] - 41s 412ms/step - loss: 0.0101 - acc: 0.9970 - val_loss: 0.1667 - val_acc: 0.9770\n",
            "Epoch 87/100\n",
            "100/100 [==============================] - 41s 412ms/step - loss: 0.0099 - acc: 0.9975 - val_loss: 0.1717 - val_acc: 0.9720\n",
            "Epoch 88/100\n",
            "100/100 [==============================] - 41s 412ms/step - loss: 0.0202 - acc: 0.9965 - val_loss: 0.1747 - val_acc: 0.9740\n",
            "Epoch 89/100\n",
            "100/100 [==============================] - 41s 412ms/step - loss: 0.0169 - acc: 0.9960 - val_loss: 0.1980 - val_acc: 0.9780\n",
            "Epoch 90/100\n",
            "100/100 [==============================] - 41s 413ms/step - loss: 0.0074 - acc: 0.9975 - val_loss: 0.2665 - val_acc: 0.9700\n",
            "Epoch 91/100\n",
            "100/100 [==============================] - 41s 411ms/step - loss: 0.0059 - acc: 0.9975 - val_loss: 0.1868 - val_acc: 0.9790\n",
            "Epoch 92/100\n",
            "100/100 [==============================] - 41s 412ms/step - loss: 0.0096 - acc: 0.9965 - val_loss: 0.2405 - val_acc: 0.9720\n",
            "Epoch 93/100\n",
            "100/100 [==============================] - 41s 412ms/step - loss: 0.0126 - acc: 0.9970 - val_loss: 0.3099 - val_acc: 0.9490\n",
            "Epoch 94/100\n",
            "100/100 [==============================] - 41s 412ms/step - loss: 0.0132 - acc: 0.9970 - val_loss: 0.1625 - val_acc: 0.9760\n",
            "Epoch 95/100\n",
            "100/100 [==============================] - 41s 412ms/step - loss: 0.0069 - acc: 0.9975 - val_loss: 0.2771 - val_acc: 0.9670\n",
            "Epoch 96/100\n",
            "100/100 [==============================] - 41s 411ms/step - loss: 0.0110 - acc: 0.9965 - val_loss: 0.3597 - val_acc: 0.9600\n",
            "Epoch 97/100\n",
            "100/100 [==============================] - 41s 411ms/step - loss: 0.0178 - acc: 0.9970 - val_loss: 0.2659 - val_acc: 0.9700\n",
            "Epoch 98/100\n",
            "100/100 [==============================] - 41s 412ms/step - loss: 0.0098 - acc: 0.9965 - val_loss: 0.3760 - val_acc: 0.9670\n",
            "Epoch 99/100\n",
            "100/100 [==============================] - 41s 412ms/step - loss: 0.0187 - acc: 0.9965 - val_loss: 0.2390 - val_acc: 0.9750\n",
            "Epoch 100/100\n",
            "100/100 [==============================] - 41s 412ms/step - loss: 0.0105 - acc: 0.9965 - val_loss: 0.1847 - val_acc: 0.9760\n"
          ],
          "name": "stdout"
        }
      ]
    },
    {
      "cell_type": "code",
      "metadata": {
        "id": "x-o3QRX_gwlM"
      },
      "source": [
        "# Plotting the results"
      ],
      "execution_count": null,
      "outputs": []
    },
    {
      "cell_type": "code",
      "metadata": {
        "colab": {
          "base_uri": "https://localhost:8080/",
          "height": 545
        },
        "id": "zb6ldNGlbiNR",
        "outputId": "62c5bc42-d6a2-47e4-d180-97a15b8c7f12"
      },
      "source": [
        "import matplotlib.pyplot as plt\n",
        "acc = history.history['acc']\n",
        "val_acc = history.history['val_acc']\n",
        "loss = history.history['loss']\n",
        "val_loss = history.history['val_loss']\n",
        "epochs = range(1, len(acc) + 1)\n",
        "plt.plot(epochs, acc, 'bo', label='Training acc')\n",
        "plt.plot(epochs, val_acc, 'b', label='Validation acc')\n",
        "plt.title('Training and validation accuracy')\n",
        "plt.legend()\n",
        "plt.figure()\n",
        "plt.plot(epochs, loss, 'bo', label='Training loss')\n",
        "plt.plot(epochs, val_loss, 'b', label='Validation loss')\n",
        "plt.title('Training and validation loss')\n",
        "plt.legend()\n",
        "plt.show()"
      ],
      "execution_count": 58,
      "outputs": [
        {
          "output_type": "display_data",
          "data": {
            "image/png": "[encoded data removed]",
            "text/plain": [
              "<Figure size 432x288 with 1 Axes>"
            ]
          },
          "metadata": {
            "needs_background": "light"
          }
        },
        {
          "output_type": "display_data",
          "data": {
            "image/png": "[encoded data removed]",
            "text/plain": [
              "<Figure size 432x288 with 1 Axes>"
            ]
          },
          "metadata": {
            "needs_background": "light"
          }
        }
      ]
    },
    {
      "cell_type": "code",
      "metadata": {
        "id": "g0ZOzJLNdYFB"
      },
      "source": [
        "# Figure 5.23 Smoothed curves for training and validation loss for fine-tuning"
      ],
      "execution_count": null,
      "outputs": []
    },
    {
      "cell_type": "code",
      "metadata": {
        "colab": {
          "base_uri": "https://localhost:8080/",
          "height": 545
        },
        "id": "teYUy4bQbn0y",
        "outputId": "4830d788-adea-4985-f23e-395409d994ab"
      },
      "source": [
        "def smooth_curve(points, factor=0.8):\n",
        "  smoothed_points = []\n",
        "  for point in points:\n",
        "    if smoothed_points:\n",
        "       previous = smoothed_points[-1]\n",
        "       smoothed_points.append(previous * factor + point * (1 - factor))\n",
        "    else:\n",
        "      smoothed_points.append(point)\n",
        "  return smoothed_points\n",
        "plt.plot(epochs,\n",
        "         smooth_curve(acc), 'bo', label='Smoothed training acc')\n",
        "plt.plot(epochs,\n",
        "         smooth_curve(val_acc), 'b', label='Smoothed validation acc')\n",
        "plt.title('Training and validation accuracy')\n",
        "plt.legend()\n",
        "\n",
        "plt.figure()\n",
        "\n",
        "plt.plot(epochs,\n",
        "         smooth_curve(loss), 'bo', label='Smoothed training loss')\n",
        "plt.plot(epochs,\n",
        "         smooth_curve(val_loss), 'b', label='Smoothed validation loss')\n",
        "plt.title('Training and validation loss')\n",
        "plt.legend()\n",
        "plt.show()"
      ],
      "execution_count": 60,
      "outputs": [
        {
          "output_type": "display_data",
          "data": {
            "image/png": "[encoded data removed]",
            "text/plain": [
              "<Figure size 432x288 with 1 Axes>"
            ]
          },
          "metadata": {
            "needs_background": "light"
          }
        },
        {
          "output_type": "display_data",
          "data": {
            "image/png": "[encoded data removed]",
            "text/plain": [
              "<Figure size 432x288 with 1 Axes>"
            ]
          },
          "metadata": {
            "needs_background": "light"
          }
        }
      ]
    },
    {
      "cell_type": "code",
      "metadata": {
        "id": "bvUfgzkCdBjg"
      },
      "source": [
        "#  finally evaluate this model on the test data:"
      ],
      "execution_count": null,
      "outputs": []
    },
    {
      "cell_type": "code",
      "metadata": {
        "colab": {
          "base_uri": "https://localhost:8080/"
        },
        "id": "UF6AtmmCcnJy",
        "outputId": "0b3e05fe-ac9b-4298-9816-077827d61c36"
      },
      "source": [
        "test_generator = test_datagen.flow_from_directory(\n",
        "test_dir,\n",
        "target_size=(150, 150),\n",
        "batch_size=20,\n",
        "class_mode='binary')\n",
        "test_loss, test_acc = model.evaluate_generator(test_generator, steps=50)\n",
        "print('test acc:', test_acc)"
      ],
      "execution_count": 61,
      "outputs": [
        {
          "output_type": "stream",
          "text": [
            "Found 1000 images belonging to 2 classes.\n"
          ],
          "name": "stdout"
        },
        {
          "output_type": "stream",
          "text": [
            "/usr/local/lib/python3.7/dist-packages/keras/engine/training.py:2006: UserWarning: `Model.evaluate_generator` is deprecated and will be removed in a future version. Please use `Model.evaluate`, which supports generators.\n",
            "  warnings.warn('`Model.evaluate_generator` is deprecated and '\n"
          ],
          "name": "stderr"
        },
        {
          "output_type": "stream",
          "text": [
            "test acc: 0.9649999737739563\n"
          ],
          "name": "stdout"
        }
      ]
    }
  ]
}